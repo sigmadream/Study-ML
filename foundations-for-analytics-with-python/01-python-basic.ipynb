{
 "cells": [
  {
   "cell_type": "markdown",
   "metadata": {},
   "source": [
    "# 파이썬 출력에 관한 내용"
   ]
  },
  {
   "cell_type": "code",
   "execution_count": 1,
   "metadata": {},
   "outputs": [
    {
     "data": {
      "text/plain": [
       "9"
      ]
     },
     "execution_count": 1,
     "metadata": {},
     "output_type": "execute_result"
    }
   ],
   "source": [
    "4+5 # REPL에서 출력할 때"
   ]
  },
  {
   "cell_type": "code",
   "execution_count": 2,
   "metadata": {},
   "outputs": [
    {
     "name": "stdout",
     "output_type": "stream",
     "text": [
      "I'm excited to learn Python\n",
      "I learn \"Python\"\n"
     ]
    }
   ],
   "source": [
    "print(\"I'm excited to learn Python\") # 홑따옴표(Single quote)가 포함된 문장\n",
    "print('I learn \"Python\"') # 쌍따옴표(Double quote)가 포함된 문장"
   ]
  },
  {
   "cell_type": "code",
   "execution_count": 3,
   "metadata": {},
   "outputs": [
    {
     "name": "stdout",
     "output_type": "stream",
     "text": [
      "Four plus five equals 9.\n"
     ]
    }
   ],
   "source": [
    "x = 4\n",
    "y = 5\n",
    "z = x + y\n",
    "print(\"Four plus five equals {0:d}.\".format(z)) # format을 사용해서 출력"
   ]
  },
  {
   "cell_type": "markdown",
   "metadata": {},
   "source": [
    "* 출력할 때 `.format`을 사용하면 오타등을 줄일 수 있으니, 많이 사용해보자\n",
    "* `.format`의 자세한 사용법은 [이곳](https://pyformat.info/)에서 확인하자\n"
   ]
  },
  {
   "cell_type": "code",
   "execution_count": 4,
   "metadata": {},
   "outputs": [
    {
     "name": "stdout",
     "output_type": "stream",
     "text": [
      "[1, 2, 3, 4], ['first', 'second', 'third', 'fourth'], [1, 2, 3, 4, 'first', 'second', 'third', 'fourth']\n",
      "['first', 'second', 'third', 'fourth'], [1, 2, 3, 4, 'first', 'second', 'third', 'fourth'], [1, 2, 3, 4]\n",
      "[1, 2, 3, 4, 'first', 'second', 'third', 'fourth'], ['first', 'second', 'third', 'fourth'], [1, 2, 3, 4]\n"
     ]
    }
   ],
   "source": [
    "a = [1,2,3,4]\n",
    "b = [\"first\", \"second\", \"third\", \"fourth\"]\n",
    "c = a + b\n",
    "print(\"{0}, {1}, {2}\".format(a,b,c))\n",
    "print(\"{1}, {2}, {0}\".format(a,b,c))\n",
    "print(\"{2}, {1}, {0}\".format(a,b,c))"
   ]
  },
  {
   "cell_type": "markdown",
   "metadata": {},
   "source": [
    "# 파이썬 기본"
   ]
  },
  {
   "cell_type": "markdown",
   "metadata": {},
   "source": [
    "## 정수"
   ]
  },
  {
   "cell_type": "code",
   "execution_count": 5,
   "metadata": {},
   "outputs": [
    {
     "name": "stdout",
     "output_type": "stream",
     "text": [
      "9\n",
      "81\n",
      "4.0\n"
     ]
    }
   ],
   "source": [
    "x = 9\n",
    "print(\"{0}\".format(x))\n",
    "print(\"{0}\".format(3**4))\n",
    "print(\"{0}\".format(int(8.3)/int(2.7)))"
   ]
  },
  {
   "cell_type": "markdown",
   "metadata": {},
   "source": [
    "## 실수"
   ]
  },
  {
   "cell_type": "code",
   "execution_count": 6,
   "metadata": {},
   "outputs": [
    {
     "name": "stdout",
     "output_type": "stream",
     "text": [
      "3.074\n",
      "12.0\n",
      "2.67\n",
      "2.666667\n"
     ]
    }
   ],
   "source": [
    "print(\"{0:.3f}\".format(8.3/2.7))\n",
    "y = 2.5 * 4.8\n",
    "print(\"{0:.1f}\".format(y))\n",
    "r = 8 / float(3)\n",
    "print(\"{0:.2f}\".format(r))\n",
    "print(\"{0:4f}\".format(8.0/3))"
   ]
  },
  {
   "cell_type": "markdown",
   "metadata": {},
   "source": [
    "## 수학 함수"
   ]
  },
  {
   "cell_type": "code",
   "execution_count": 7,
   "metadata": {},
   "outputs": [
    {
     "name": "stdout",
     "output_type": "stream",
     "text": [
      "2.7183\n",
      "1.3863\n",
      "1.4142\n"
     ]
    }
   ],
   "source": [
    "from math import exp, log, sqrt\n",
    "print(\"{0:.4f}\".format(exp(1))) # 자연상수 e=2.718281...\n",
    "print(\"{0:.4f}\".format(log(4))) # 자연로그\n",
    "print(\"{0:.4f}\".format(sqrt(2))) # 루트"
   ]
  },
  {
   "cell_type": "markdown",
   "metadata": {},
   "source": [
    "## 문자열"
   ]
  },
  {
   "cell_type": "code",
   "execution_count": 8,
   "metadata": {},
   "outputs": [
    {
     "name": "stdout",
     "output_type": "stream",
     "text": [
      "I'm enjoying learning Python.\n",
      "This is a long string. Without the backslashit would run off of the page [...] difficult to read and edit. [...] string into [...]\n",
      "You can use triple single [...]\n",
      "You can use triple single [...]\n",
      "This is ashort string.\n",
      "She is very very very very beautiful.\n",
      "22\n"
     ]
    }
   ],
   "source": [
    "print(\"{0:s}\".format('I\\'m enjoying learning Python.')) # __str__\n",
    "print(\"{0:s}\".format('This is a long string. Without the backslash\\\n",
    "it would run off of the page [...] \\\n",
    "difficult to read and edit. [...] \\\n",
    "string into [...]')) # 줄바꿈은 `\\`\n",
    "print(\"{0:s}\".format('''You can use triple single [...]'''))\n",
    "print(\"{0:s}\".format(\"\"\"You can use triple single [...]\"\"\"))\n",
    "\n",
    "string1 = \"This is a\"\n",
    "string2 = \"short string.\"\n",
    "sentence = string1 + string2 # 문자열 결합\n",
    "print(\"{0:s}\".format(sentence))\n",
    "print(\"{0:s} {1:s}{2:s}\".format(\"She is\", \"very \"*4, \"beautiful.\"))\n",
    "\n",
    "m = len(sentence)\n",
    "print(\"{0:d}\".format(m))"
   ]
  },
  {
   "cell_type": "code",
   "execution_count": 9,
   "metadata": {},
   "outputs": [
    {
     "name": "stdout",
     "output_type": "stream",
     "text": [
      "['My', 'deliverable', 'is', 'due', 'in', 'May']\n",
      "My deliverable is due in May\n",
      "['Your', 'deliverable', 'is', 'due', 'in', 'June']\n",
      "deliverable June June\n",
      "Your,deliverable,is,due,in,June\n",
      " Remove  unwanted characters   from this string.\t\t     \n",
      "\n",
      "Remove  unwanted characters   from this string.\t\t     \n",
      "\n",
      " Remove  unwanted characters   from this string.\n",
      "Remove  unwanted characters   from this string.\n",
      "$$Here's another string that has unwanted characters.__---++\n",
      "Here's another string that has unwanted characters.\n",
      "Let's!@!replace!@!the!@!spaces!@!in!@!this!@!sentence!@!with!@!other!@!characters.\n",
      "Let's,replace,the,spaces,in,this,sentence,with,other,characters.\n",
      "here's what happends when you use lower.\n",
      "HERE'S WHAT HAPPENDS WHEN YOU USE LOWER.\n",
      "Here's what happends when you use lower.\n",
      "Let's\n",
      "Replace\n",
      "The\n",
      "Spaces\n",
      "In\n",
      "This\n",
      "Sentence\n",
      "With\n",
      "Other\n",
      "Characters.\n"
     ]
    }
   ],
   "source": [
    "string1 = \"My deliverable is due in May\"\n",
    "string1_list1 = string1.split()\n",
    "string1_list2 = string1.split(\" \", 2) # 두 번째 인수는 분할이 수행될 횟수를 가리킨다.\n",
    "print(\"{0}\".format(string1_list1))\n",
    "print(\"{0} {1} {2}\".format(string1_list2[0], string1_list2[1], string1_list2[2]))\n",
    "\n",
    "string2 = \"Your,deliverable,is,due,in,June\"\n",
    "string2_list = string2.split(',')\n",
    "print(\"{0}\".format(string2_list))\n",
    "print(\"{0} {1} {2}\".format(string2_list[1], string2_list[5], string2_list[-1]))\n",
    "print(\"{0}\".format(','.join(string2_list)))\n",
    "\n",
    "string3 = \" Remove  unwanted characters   from this string.\\t\\t     \\n\"\n",
    "print(\"{0:s}\".format(string3))\n",
    "print(\"{0:s}\".format(string3.lstrip()))\n",
    "print(\"{0:s}\".format(string3.rstrip()))\n",
    "print(\"{0:s}\".format(string3.strip()))\n",
    "\n",
    "string4 = \"$$Here's another string that has unwanted characters.__---++\"\n",
    "print(\"{0:s}\".format(string4))\n",
    "print(\"{0:s}\".format(string4.strip('$_-+')))\n",
    "\n",
    "string5 = \"Let's replace the spaces in this sentence with other characters.\"\n",
    "print(\"{0:s}\".format(string5.replace(\" \", \"!@!\")))\n",
    "print(\"{0:s}\".format(string5.replace(\" \", \",\")))\n",
    "\n",
    "string6 = \"Here's WHAT Happends WHEN You Use lower.\"\n",
    "print(\"{0:s}\".format(string6.lower()))\n",
    "print(\"{0:s}\".format(string6.upper()))\n",
    "print(\"{0:s}\".format(string6.capitalize()))\n",
    "for word in string5.split():\n",
    "    print(\"{0:s}\".format(word.capitalize()))"
   ]
  },
  {
   "cell_type": "markdown",
   "metadata": {},
   "source": [
    "## 정규 표현식과 패턴 매칭"
   ]
  },
  {
   "cell_type": "markdown",
   "metadata": {},
   "source": [
    "* 파이썬은 정규 표현식을 지원하기 위해 re(regular expression의 약어) 모듈을 제공\n",
    "* re 모듈은 파이썬이 설치될 때 자동으로 설치되는 기본 라이브러리\n",
    "* re.compile 을 이용하여 정규표현식(위 예에서는 ab*)을 컴파일하고 컴파일된 패턴객체(re.compile의 결과로 리턴되는 객체 p)를 이용하여 그 이후의 작업을 수행"
   ]
  },
  {
   "cell_type": "code",
   "execution_count": 10,
   "metadata": {},
   "outputs": [
    {
     "name": "stdout",
     "output_type": "stream",
     "text": [
      "2\n",
      "a quick brown fox jumps over a lazy dog\n"
     ]
    }
   ],
   "source": [
    "import re\n",
    "string = \"The quick brown fox jumps over the lazy dog\"\n",
    "string_list = string.split()\n",
    "pattern = re.compile(r\"The\", re.I)\n",
    "count = 0\n",
    "for word in string_list:\n",
    "    if pattern.search(word):\n",
    "        count += 1\n",
    "print(\"{0:d}\".format(count))\n",
    "print(\"{:s}\".format(pattern.sub(\"a\", string)))"
   ]
  },
  {
   "cell_type": "markdown",
   "metadata": {},
   "source": [
    "## 날짜"
   ]
  },
  {
   "cell_type": "code",
   "execution_count": 11,
   "metadata": {},
   "outputs": [
    {
     "name": "stdout",
     "output_type": "stream",
     "text": [
      "2019-03-19\n",
      "2019\n",
      "3\n",
      "19\n",
      "2019-03-19 18:09:37.007379\n",
      "2019-03-18\n",
      "-1 57600\n",
      "1 day, 0:00:00\n",
      "1\n",
      "03/19/2019\n",
      "2019-03-19\n",
      "March 19, 2019\n",
      "Mar 19, 2019\n",
      "2019-03-19 00:00:00\n"
     ]
    }
   ],
   "source": [
    "from datetime import date, time, datetime, timedelta\n",
    "today = date.today()\n",
    "print(\"{0!s}\".format(today))\n",
    "print(\"{0!s}\".format(today.year))\n",
    "print(\"{0!s}\".format(today.month))\n",
    "print(\"{0!s}\".format(today.day))\n",
    "\n",
    "current_datetime = datetime.today()\n",
    "print(\"{0!s}\".format(current_datetime)) # !s는 print 문에 전달된 값이 숫자 형식일지라도 문자열로 처리하라는 의미\n",
    "\n",
    "one_day = timedelta(days=-1)\n",
    "yesterday = today + one_day\n",
    "print(\"{0!s}\".format(yesterday))\n",
    "\n",
    "eight_hours = timedelta(hours=-8)\n",
    "print(\"{0!s}\".format(\"{0!s} {1!s}\".format(eight_hours.days, eight_hours.seconds)))\n",
    "\n",
    "date_diff = today - yesterday\n",
    "print(\"{0!s}\".format(date_diff))\n",
    "print(\"{0!s}\".format(str(date_diff).split()[0]))\n",
    "print(\"{0!s}\".format(today.strftime('%m/%d/%Y')))\n",
    "print(\"{0!s}\".format(today.strftime('%Y-%m-%d')))\n",
    "print(\"{0!s}\".format(today.strftime('%B %d, %Y')))\n",
    "print(\"{0!s}\".format(today.strftime('%b %d, %Y')))\n",
    "\n",
    "date1 = today.strftime('%m/%d/%Y')\n",
    "print(\"{0!s}\".format(datetime.strptime(date1, '%m/%d/%Y')))"
   ]
  },
  {
   "cell_type": "markdown",
   "metadata": {},
   "source": [
    "# 리스트"
   ]
  },
  {
   "cell_type": "code",
   "execution_count": 12,
   "metadata": {},
   "outputs": [
    {
     "name": "stdout",
     "output_type": "stream",
     "text": [
      "[1, 2, 5]\n",
      "3\n",
      "5\n",
      "1\n",
      "['printer', 5, ['star', 'circle', 9]]\n",
      "3\n",
      "1\n",
      "['printer', 5]\n",
      "[1, 2, 5]\n",
      "[1, 2, 5, 'printer', 5, ['star', 'circle', 9]]\n",
      "True\n",
      "[1, 2, 5]\n",
      "[1, 2, 5]\n",
      "[1, 2, 5, 4, 5, 6]\n",
      "[1, 2, 4, 5, 6]\n",
      "[1, 2]\n",
      "[2, 1]\n",
      "[3, 5, 1, 7, 2, 8, 4, 9, 0, 6]\n"
     ]
    },
    {
     "ename": "NameError",
     "evalue": "name 'sort' is not defined",
     "output_type": "error",
     "traceback": [
      "\u001b[0;31m---------------------------------------------------------------------------\u001b[0m",
      "\u001b[0;31mNameError\u001b[0m                                 Traceback (most recent call last)",
      "\u001b[0;32m<ipython-input-12-427ab6285b8f>\u001b[0m in \u001b[0;36m<module>\u001b[0;34m\u001b[0m\n\u001b[1;32m     47\u001b[0m \u001b[0mprint\u001b[0m\u001b[0;34m(\u001b[0m\u001b[0;34m\"{}\"\u001b[0m\u001b[0;34m.\u001b[0m\u001b[0mformat\u001b[0m\u001b[0;34m(\u001b[0m\u001b[0munordered_list\u001b[0m\u001b[0;34m)\u001b[0m\u001b[0;34m)\u001b[0m\u001b[0;34m\u001b[0m\u001b[0;34m\u001b[0m\u001b[0m\n\u001b[1;32m     48\u001b[0m \u001b[0mlist_copy\u001b[0m \u001b[0;34m=\u001b[0m \u001b[0munordered_list\u001b[0m\u001b[0;34m[\u001b[0m\u001b[0;34m:\u001b[0m\u001b[0;34m]\u001b[0m\u001b[0;34m\u001b[0m\u001b[0;34m\u001b[0m\u001b[0m\n\u001b[0;32m---> 49\u001b[0;31m \u001b[0mprint\u001b[0m\u001b[0;34m(\u001b[0m\u001b[0;34m\"{}\"\u001b[0m\u001b[0;34m.\u001b[0m\u001b[0mformat\u001b[0m\u001b[0;34m(\u001b[0m\u001b[0msort\u001b[0m\u001b[0;34m(\u001b[0m\u001b[0mlist_copy\u001b[0m\u001b[0;34m)\u001b[0m\u001b[0;34m)\u001b[0m\u001b[0;34m)\u001b[0m\u001b[0;34m\u001b[0m\u001b[0;34m\u001b[0m\u001b[0m\n\u001b[0m\u001b[1;32m     50\u001b[0m \u001b[0mprint\u001b[0m\u001b[0;34m(\u001b[0m\u001b[0;34m\"{}\"\u001b[0m\u001b[0;34m.\u001b[0m\u001b[0mformat\u001b[0m\u001b[0;34m(\u001b[0m\u001b[0munordered_list\u001b[0m\u001b[0;34m)\u001b[0m\u001b[0;34m)\u001b[0m\u001b[0;34m\u001b[0m\u001b[0;34m\u001b[0m\u001b[0m\n\u001b[1;32m     51\u001b[0m \u001b[0;34m\u001b[0m\u001b[0m\n",
      "\u001b[0;31mNameError\u001b[0m: name 'sort' is not defined"
     ]
    }
   ],
   "source": [
    "a_list = [1,2,5]\n",
    "print(\"{}\".format(a_list))\n",
    "print(\"{}\".format(len(a_list)))\n",
    "print(\"{}\".format(max(a_list)))\n",
    "print(\"{}\".format(min(a_list)))\n",
    "\n",
    "another_list = ['printer', 5, ['star', 'circle', 9]]\n",
    "print(\"{}\".format(another_list))\n",
    "print(\"{}\".format(len(another_list)))\n",
    "print(\"{}\".format(another_list.count(5))) # count 함수는 리스트 내에서 특별한 값이 등장하는 횟수\n",
    "\n",
    "print(\"{}\".format(another_list[0:2]))\n",
    "\n",
    "a_new_list = a_list[:]\n",
    "print(\"{}\".format(a_new_list))\n",
    "\n",
    "a_longer_list = a_list + another_list\n",
    "print(\"{}\".format(a_longer_list))\n",
    "\n",
    "a = 2 in a_list\n",
    "print(\"{}\".format(a))\n",
    "\n",
    "if 2 in a_list:\n",
    "    print(\"{}\".format(a_list))\n",
    "    \n",
    "b = 6 not in a_list\n",
    "if 6 not in a_list:\n",
    "    print(\"{}\".format(a_list))\n",
    "    \n",
    "a_list.append(4)\n",
    "a_list.append(5)\n",
    "a_list.append(6)\n",
    "print(\"{}\".format(a_list))\n",
    "\n",
    "a_list.remove(5)\n",
    "print(\"{}\".format(a_list))\n",
    "\n",
    "a_list.pop()\n",
    "a_list.pop()\n",
    "a_list.pop()\n",
    "print(\"{}\".format(a_list))\n",
    "\n",
    "a_list.reverse()\n",
    "print(\"{}\".format(a_list))\n",
    "\n",
    "unordered_list = [3,5,1,7,2,8,4,9,0,6]\n",
    "print(\"{}\".format(unordered_list))\n",
    "list_copy = unordered_list[:]\n",
    "print(\"{}\".format(sort(list_copy)))\n",
    "print(\"{}\".format(unordered_list))\n",
    "\n",
    "index_value = [1,2,3,4,5]\n",
    "my_lists = [[1,2,3,4], [4,3,2,1], [2,4,1,3]]\n",
    "my_lists_sorted_by_index_3 = sorted(my_lists, key=lambda index_value: index_value[3])\n",
    "\n",
    "from operator import itemgetter\n",
    "my_lists = [[123,2,2,444], [22,6,6,444], [354,4,4,678], [236,5,5,678], [578,1,1,290], [461,1,1,290]]\n",
    "my_lists_sorted_by_index_3_and_0 = sorted(my_lists, key=itemgetter(3,0)) # itemgetter에 대해서 좀 더 알아봐야겠음\n",
    "print(\"{}\".format(my_lists_sorted_by_index_3_and_0))"
   ]
  },
  {
   "cell_type": "markdown",
   "metadata": {},
   "source": [
    "## 튜플"
   ]
  },
  {
   "cell_type": "code",
   "execution_count": 13,
   "metadata": {},
   "outputs": [
    {
     "name": "stdout",
     "output_type": "stream",
     "text": [
      "('x', 'y', 'z')\n",
      "3\n",
      "y\n",
      "('x', 'y', 'z', 'x', 'y', 'z')\n",
      "x y z\n",
      "red robin\n",
      "robin red\n",
      "(1, 2, 3)\n",
      "['x', 'y', 'z']\n"
     ]
    }
   ],
   "source": [
    "my_tuple = ('x', 'y', 'z')\n",
    "print(\"{}\".format(my_tuple))\n",
    "print(\"{}\".format(len(my_tuple)))\n",
    "print(\"{}\".format(my_tuple[1]))\n",
    "\n",
    "longer_tuple = my_tuple + my_tuple\n",
    "print(\"{}\".format(longer_tuple))\n",
    "\n",
    "one, two, three = my_tuple\n",
    "print(\"{0} {1} {2}\".format(one, two, three))\n",
    "\n",
    "# swap\n",
    "\n",
    "var1 = 'red'\n",
    "var2 = 'robin'\n",
    "print(\"{} {}\".format(var1, var2))\n",
    "\n",
    "var1, var2 = var2, var1\n",
    "print(\"{} {}\".format(var1, var2))\n",
    "\n",
    "\n",
    "my_list = [1, 2, 3]\n",
    "my_tuple = ('x', 'y', 'z')\n",
    "print(\"{}\".format(tuple(my_list)))\n",
    "print(\"{}\".format(list(my_tuple)))"
   ]
  },
  {
   "cell_type": "markdown",
   "metadata": {},
   "source": [
    "## 사전"
   ]
  },
  {
   "cell_type": "code",
   "execution_count": 14,
   "metadata": {},
   "outputs": [
    {
     "name": "stdout",
     "output_type": "stream",
     "text": [
      "{'one': 1, 'two': 2, 'three': 3}\n",
      "3\n",
      "{'x': 'printer', 'y': 5, 'z': ['star', 'circle', 9]}\n",
      "3\n",
      "2\n",
      "['star', 'circle', 9]\n",
      "{'one': 1, 'two': 2, 'three': 3}\n",
      "dict_keys(['one', 'two', 'three'])\n",
      "dict_values([1, 2, 3])\n",
      "dict_items([('one', 1), ('two', 2), ('three', 3)])\n",
      "dict_keys(['x', 'y', 'z'])\n",
      "dict_keys(['x', 'y', 'z'])\n",
      "3\n",
      "None\n",
      "Not in dict\n",
      "{'one': 1, 'two': 2, 'three': 3}\n",
      "[('one', 1), ('three', 3), ('two', 2)]\n",
      "[('one', 1), ('two', 2), ('three', 3)]\n",
      "[('three', 3), ('two', 2), ('one', 1)]\n",
      "[('one', 1), ('two', 2), ('three', 3)]\n"
     ]
    }
   ],
   "source": [
    "empty_dict = { }\n",
    "a_dict = {'one':1, 'two':2, 'three':3}\n",
    "print(\"{}\".format(a_dict))\n",
    "print(\"{!s}\".format(len(a_dict)))\n",
    "\n",
    "another_dict = {'x':'printer', 'y':5, 'z':['star', 'circle', 9]}\n",
    "print(\"{}\".format(another_dict))\n",
    "print(\"{!s}\".format(len(another_dict)))\n",
    "\n",
    "print(\"{}\".format(a_dict['two']))\n",
    "print(\"{}\".format(another_dict['z']))\n",
    "\n",
    "a_new_dict = a_dict.copy()\n",
    "print(\"{}\".format(a_new_dict))\n",
    "  \n",
    "\n",
    "a_dict_keys = a_dict.keys()\n",
    "print(\"{}\".format(a_dict_keys))\n",
    "print(\"{}\".format(a_dict.values()))\n",
    "print(\"{}\".format(a_dict.items()))\n",
    "\n",
    "# kyes\n",
    "if 'y' in another_dict:\n",
    "    print(\"{}\".format(another_dict.keys()))\n",
    "\n",
    "if 'c' not in another_dict:\n",
    "    print(\"{}\".format(another_dict.keys()))\n",
    "\n",
    "# 가져오기\n",
    "print(\"{!s}\".format(a_dict.get('three')))\n",
    "print(\"{!s}\".format(a_dict.get('four')))\n",
    "print(\"{!s}\".format(a_dict.get('four', 'Not in dict')))\n",
    "\n",
    "print(str(a_dict))\n",
    "\n",
    "# 정렬\n",
    "dict_copy = a_dict.copy()\n",
    "\n",
    "ordered_dict1 = sorted(dict_copy.items(), key=lambda item: item[0])\n",
    "print(\"{}\".format(ordered_dict1))\n",
    "\n",
    "ordered_dict2 = sorted(dict_copy.items(), key=lambda item: item[1])\n",
    "print(\"{}\".format(ordered_dict2))\n",
    "\n",
    "ordered_dict3 = sorted(dict_copy.items(), key=lambda x: x[1], reverse=True)\n",
    "print(\"{}\".format(ordered_dict3))\n",
    "\n",
    "ordered_dict4 = sorted(dict_copy.items(), key=lambda x: x[1], reverse=False)\n",
    "print(\"{}\".format(ordered_dict4))"
   ]
  },
  {
   "cell_type": "markdown",
   "metadata": {},
   "source": [
    "## 제어문"
   ]
  },
  {
   "cell_type": "code",
   "execution_count": 15,
   "metadata": {},
   "outputs": [
    {
     "name": "stdout",
     "output_type": "stream",
     "text": [
      "Output #124: 5\n",
      "Output #127: 25\n",
      "Jan\n",
      "Feb\n",
      "Mar\n",
      "Apr\n",
      "May\n",
      "Jun\n",
      "Jul\n",
      "Aug\n",
      "Sep\n",
      "Oct\n",
      "Nov\n",
      "Dec\n",
      "0: Annie\n",
      "1: Betty\n",
      "2: Claire\n",
      "3: Daphne\n",
      "4: Ellie\n",
      "5: Franchesca\n",
      "6: Greta\n",
      "7: Holly\n",
      "8: Isabel\n",
      "9: Jenny\n",
      "Jan\n",
      "Jun\n",
      "Jul\n",
      "x, printer\n",
      "y, 5\n",
      "z, ['star', 'circle', 9]\n",
      "[[4, 5, 6], [7, 8, 9]]\n",
      "{(4, 5, 6), (7, 8, 9), (1, 2, 3)}\n",
      "{(4, 5, 6), (7, 8, 9), (1, 2, 3)}\n",
      "{'customer3': 11}\n",
      "Output #137:\n",
      "0\n",
      "1\n",
      "2\n",
      "3\n",
      "4\n",
      "5\n",
      "6\n",
      "7\n",
      "8\n",
      "9\n",
      "10\n"
     ]
    }
   ],
   "source": [
    "x = 5\n",
    "if x > 4 or x != 9:\n",
    "    print(\"Output #124: {}\".format(x))\n",
    "else:\n",
    "    print(\"Output #125: x is not greater than 4\")\n",
    "\n",
    "if x > 6:\n",
    "    print(\"Output #126: x is greater than six\")\n",
    "elif x > 4 and x == 5:\n",
    "    print(\"Output #127: {}\".format(x*x))\n",
    "else:\n",
    "    print(\"Output #128: x is not greater than 4\")\n",
    "\n",
    "y = ['Jan', 'Feb', 'Mar', 'Apr', 'May', 'Jun', 'Jul', 'Aug', 'Sep', 'Oct', 'Nov', 'Dec']\n",
    "z = ['Annie', 'Betty', 'Claire', 'Daphne', 'Ellie', 'Franchesca', 'Greta', 'Holly', 'Isabel', 'Jenny']\n",
    "\n",
    "for month in y:\n",
    "    print(\"{!s}\".format(month))\n",
    "\n",
    "for i in range(len(z)):\n",
    "    print(\"{0!s}: {1:s}\".format(i, z[i]))\n",
    "\n",
    "for j in range(len(z)):\n",
    "    if y[j].startswith('J'):\n",
    "        print(\"{!s}\".format(y[j]))\n",
    "\n",
    "for key, value in another_dict.items():\n",
    "    print(\"{0:s}, {1}\".format(key, value))\n",
    "\n",
    "my_data = [[1,2,3], [4,5,6], [7,8,9]]\n",
    "rows_to_keep = [row for row in my_data if row[2] > 5]\n",
    "print(\"{}\".format(rows_to_keep))\n",
    "\n",
    "my_data = [(1,2,3), (4,5,6), (7,8,9), (7,8,9)]\n",
    "set_of_tuples1 = {x for x in my_data}\n",
    "print(\"{}\".format(set_of_tuples1))\n",
    "set_of_tuples2 = set(my_data)\n",
    "print(\"{}\".format(set_of_tuples2))\n",
    "\n",
    "my_dictionary = {'customer1': 7, 'customer2': 9, 'customer3': 11}\n",
    "my_results = {key : value for key, value in my_dictionary.items() if value > 10}\n",
    "print(\"{}\".format(my_results))\n",
    "\n",
    "print(\"Output #137:\")\n",
    "x = 0\n",
    "while x < 11:\n",
    "    print(\"{!s}\".format(x))\n",
    "    x += 1"
   ]
  },
  {
   "cell_type": "code",
   "execution_count": 16,
   "metadata": {},
   "outputs": [
    {
     "name": "stdout",
     "output_type": "stream",
     "text": [
      "5.0\n",
      "nan\n",
      "nan\n",
      "division by zero\n",
      "Finally\n"
     ]
    }
   ],
   "source": [
    "def getMean1(numericValues):\n",
    "    return sum(numericValues)/len(numericValues) if len(numericValues) > 0 \\\n",
    "    else float('nan')\n",
    "\n",
    "my_list = [2, 2, 4, 4, 6, 6, 8, 8]\n",
    "print(\"{!s}\".format(getMean1(my_list)))\n",
    "\n",
    "# import numpy as np\n",
    "# print(np.mean(my_list))\n",
    "\n",
    "def getMean2(numericValues):\n",
    "    return sum(numericValues)/len(numericValues)\n",
    "\n",
    "my_list2 = [ ]\n",
    "\n",
    "try:\n",
    "    print(\"{}\".format(getMean1(my_list2)))\n",
    "except ZeroDivisionError as detail:\n",
    "    print(\"{}\".format(float('nan')))\n",
    "    print(\"{}\".format(detail))\n",
    "\n",
    "try:\n",
    "    result = getMean2(my_list2)\n",
    "except ZeroDivisionError as detail:\n",
    "    print(\"{}\".format(float('nan')))\n",
    "    print(\"{}\".format(detail))\n",
    "else:\n",
    "    print(\"{}\".format(result))\n",
    "finally:\n",
    "    print(\"Finally\")"
   ]
  },
  {
   "cell_type": "code",
   "execution_count": null,
   "metadata": {},
   "outputs": [],
   "source": []
  }
 ],
 "metadata": {
  "kernelspec": {
   "display_name": "Python 3",
   "language": "python",
   "name": "python3"
  },
  "language_info": {
   "codemirror_mode": {
    "name": "ipython",
    "version": 3
   },
   "file_extension": ".py",
   "mimetype": "text/x-python",
   "name": "python",
   "nbconvert_exporter": "python",
   "pygments_lexer": "ipython3",
   "version": "3.7.2"
  }
 },
 "nbformat": 4,
 "nbformat_minor": 2
}
