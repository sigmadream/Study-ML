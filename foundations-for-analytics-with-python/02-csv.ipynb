{
 "cells": [
  {
   "cell_type": "markdown",
   "metadata": {},
   "source": [
    "# CSV  읽고, 쓰기"
   ]
  },
  {
   "cell_type": "code",
   "execution_count": 7,
   "metadata": {},
   "outputs": [
    {
     "name": "stdout",
     "output_type": "stream",
     "text": [
      "['Supplier Name', 'Invoice Number', 'Part Number', 'Cost', 'Purchase Date']\n",
      "['Supplier X', '001-1001', '2341', '$500.00', '1/20/14']\n",
      "['Supplier X', '001-1001', '2341', '$500.00', '1/20/14']\n",
      "['Supplier X', '001-1001', '5467', '$750.00', '1/20/14']\n",
      "['Supplier X', '001-1001', '5467', '$750.00', '1/20/14']\n",
      "['Supplier Y', '50-9501', '7009', '$250.00', '1/30/14']\n",
      "['Supplier Y', '50-9501', '7009', '$250.00', '1/30/14']\n",
      "['Supplier Y', '50-9505', '6650', '$125.00', '2/3/14']\n",
      "['Supplier Y', '50-9505', '6650', '$125.00', '2/3/14']\n",
      "['Supplier Z', '920-4803', '3321', '$615.00', '2/3/14']\n",
      "['Supplier Z', '920-4804', '3321', '$615.00', '2/10/14']\n",
      "['Supplier Z', '920-4805', '3321', '$615.00', '2/17/14']\n",
      "['Supplier Z', '920-4806', '3321', '$615.00', '2/24/14']\n"
     ]
    }
   ],
   "source": [
    "# import sys\n",
    "# input_file = sys.argv[1]\n",
    "# output_file = sys.argv[2]\n",
    "# python script_name.py input_file output_file\n",
    "\n",
    "input_file = './csv/supplier_data.csv'\n",
    "output_file = './output/1output.csv'\n",
    "\n",
    "with open('./csv/supplier_data.csv', 'r', newline='') as filereader: \n",
    "    with open('./output/1output.csv', 'w', newline='') as filewriter:\n",
    "        # with문은 종료될 때 자동으로 파일 객체를 닫음\n",
    "        header = filereader.readline() # 첫번째 라일\n",
    "        header = header.strip() # 공백, 탭 및 개행문자 제거\n",
    "        header_list = header.split(',') # `,`로 분리\n",
    "        print(header_list)\n",
    "        filewriter.write(','.join(map(str,header_list))+'\\n') # header_list를 문자로 변환하여 쉼표를 삽입하여 문자열로 변환\n",
    "        for row in filereader:\n",
    "            row = row.strip()\n",
    "            row_list = row.split(',')\n",
    "            print(row_list)\n",
    "            filewriter.write(','.join(map(str,row_list))+'\\n')"
   ]
  },
  {
   "cell_type": "code",
   "execution_count": 8,
   "metadata": {},
   "outputs": [],
   "source": [
    "import csv\n",
    "\n",
    "input_file = './csv/supplier_data.csv'\n",
    "output_file = './output/1output.csv'\n",
    "\n",
    "with open(input_file, 'r', newline='') as csv_in_file: # 파일은 언제나 with as Obj\n",
    "    with open(output_file, 'w', newline='') as csv_out_file: # 파일은 언제나 with as Obj\n",
    "        filereader = csv.reader(csv_in_file, delimiter=',')\n",
    "        filewriter = csv.writer(csv_out_file, delimiter=',')\n",
    "        for row_list in filereader:\n",
    "            # 이곳에 필요한 내용을 작성\n",
    "            filewriter.writerow(row_list)"
   ]
  },
  {
   "cell_type": "code",
   "execution_count": 35,
   "metadata": {},
   "outputs": [
    {
     "name": "stdout",
     "output_type": "stream",
     "text": [
      "   Supplier Name Invoice Number  Part Number     Cost Purchase Date\n",
      "0     Supplier X       001-1001         2341  $500.00       1/20/14\n",
      "1     Supplier X       001-1001         2341  $500.00       1/20/14\n",
      "2     Supplier X       001-1001         5467  $750.00       1/20/14\n",
      "3     Supplier X       001-1001         5467  $750.00       1/20/14\n",
      "4     Supplier Y        50-9501         7009  $250.00       1/30/14\n",
      "5     Supplier Y        50-9501         7009  $250.00       1/30/14\n",
      "6     Supplier Y        50-9505         6650  $125.00        2/3/14\n",
      "7     Supplier Y        50-9505         6650  $125.00        2/3/14\n",
      "8     Supplier Z       920-4803         3321  $615.00        2/3/14\n",
      "9     Supplier Z       920-4804         3321  $615.00       2/10/14\n",
      "10    Supplier Z       920-4805         3321  $615.00       2/17/14\n",
      "11    Supplier Z       920-4806         3321  $615.00       2/24/14\n"
     ]
    }
   ],
   "source": [
    "import pandas as pd\n",
    "\n",
    "input_file = './csv/supplier_data.csv'\n",
    "output_file = './output/1output.csv'\n",
    "\n",
    "data_frame = pd.read_csv(input_file)\n",
    "print(data_frame)\n",
    "# 이곳에 필요한 내용을 작성\n",
    "data_frame.to_csv(output_file, index=False)"
   ]
  },
  {
   "cell_type": "markdown",
   "metadata": {},
   "source": [
    "# 올바른 Parsing 방법"
   ]
  },
  {
   "cell_type": "code",
   "execution_count": 38,
   "metadata": {},
   "outputs": [],
   "source": [
    "import csv\n",
    "\n",
    "input_file = './csv/supplier_data.csv'\n",
    "output_file = './output/2output.csv'\n",
    "\n",
    "with open(input_file, 'r', newline='') as csv_in_file:\n",
    "  with open(output_file, 'w', newline='') as csv_out_file:\n",
    "    filereader = csv.reader(csv_in_file)\n",
    "    filewriter = csv.writer(csv_out_file)\n",
    "    header = next(filereader) # 현재 값을 리터하고 다음으로 이동한다.\n",
    "    filewriter.writerow(header)\n",
    "    for row_list in filereader:\n",
    "      supplier = str(row_list[0]).strip()\n",
    "      cost = str(row_list[3]).strip('$').replace(',', '')\n",
    "      if supplier == 'Supplier Z' or float(cost) > 600.0:\n",
    "        filewriter.writerow(row_list)"
   ]
  },
  {
   "cell_type": "code",
   "execution_count": 39,
   "metadata": {},
   "outputs": [
    {
     "name": "stdout",
     "output_type": "stream",
     "text": [
      "   Supplier Name Invoice Number  Part Number   Cost Purchase Date\n",
      "2     Supplier X       001-1001         5467  750.0       1/20/14\n",
      "3     Supplier X       001-1001         5467  750.0       1/20/14\n",
      "8     Supplier Z       920-4803         3321  615.0        2/3/14\n",
      "9     Supplier Z       920-4804         3321  615.0       2/10/14\n",
      "10    Supplier Z       920-4805         3321  615.0       2/17/14\n",
      "11    Supplier Z       920-4806         3321  615.0       2/24/14\n"
     ]
    }
   ],
   "source": [
    "import pandas as pd\n",
    "\n",
    "input_file = './csv/supplier_data.csv'\n",
    "output_file = './output/2output.csv'\n",
    "\n",
    "data_frame = pd.read_csv(input_file)\n",
    "\n",
    "data_frame['Cost'] = data_frame['Cost'].str.strip('$').astype(float) # Cost 커럼의 `$`를 삭제하고, float으로 처리\n",
    "data_frame_value_meets_condition = data_frame.loc[(data_frame['Supplier Name'].str.contains('Z')) | (data_frame['Cost'] > 600.0), :]\n",
    "print(data_frame_value_meets_condition)\n",
    "data_frame_value_meets_condition.to_csv(output_file, index=False)"
   ]
  },
  {
   "cell_type": "markdown",
   "metadata": {},
   "source": [
    "# 특정 집합의 값을 포함하는 행의 필터링"
   ]
  },
  {
   "cell_type": "code",
   "execution_count": 40,
   "metadata": {},
   "outputs": [
    {
     "name": "stdout",
     "output_type": "stream",
     "text": [
      "1/20/14\n",
      "1/20/14\n",
      "1/20/14\n",
      "1/20/14\n",
      "1/30/14\n",
      "1/30/14\n",
      "2/3/14\n",
      "2/3/14\n",
      "2/3/14\n",
      "2/10/14\n",
      "2/17/14\n",
      "2/24/14\n"
     ]
    }
   ],
   "source": [
    "import csv\n",
    "\n",
    "input_file = './csv/supplier_data.csv'\n",
    "output_file = './output/4output.csv'\n",
    "\n",
    "important_dates = ['1/20/14', '1/30/14']\n",
    "\n",
    "with open(input_file, 'r', newline='') as csv_in_file:\n",
    "  with open(output_file, 'w', newline='') as csv_out_file:\n",
    "    filereader = csv.reader(csv_in_file)\n",
    "    filewriter = csv.writer(csv_out_file)\n",
    "    header = next(filereader)\n",
    "    filewriter.writerow(header)\n",
    "    for row_list in filereader:\n",
    "        print(row_list[4])\n",
    "        a_date = row_list[4]\n",
    "        if a_date in important_dates:\n",
    "            filewriter.writerow(row_list)"
   ]
  },
  {
   "cell_type": "code",
   "execution_count": 41,
   "metadata": {},
   "outputs": [
    {
     "name": "stdout",
     "output_type": "stream",
     "text": [
      "  Supplier Name Invoice Number  Part Number     Cost Purchase Date\n",
      "0    Supplier X       001-1001         2341  $500.00       1/20/14\n",
      "1    Supplier X       001-1001         2341  $500.00       1/20/14\n",
      "2    Supplier X       001-1001         5467  $750.00       1/20/14\n",
      "3    Supplier X       001-1001         5467  $750.00       1/20/14\n",
      "4    Supplier Y        50-9501         7009  $250.00       1/30/14\n",
      "5    Supplier Y        50-9501         7009  $250.00       1/30/14\n"
     ]
    }
   ],
   "source": [
    "import pandas as pd\n",
    "\n",
    "input_file = './csv/supplier_data.csv'\n",
    "output_file = './output/4output.csv'\n",
    "\n",
    "data_frame = pd.read_csv(input_file)\n",
    "\n",
    "important_dates = ['1/20/14', '1/30/14']\n",
    "data_frame_value_in_set = data_frame.loc[data_frame['Purchase Date'].isin(important_dates), :]\n",
    "print(data_frame_value_in_set)\n",
    "data_frame_value_in_set.to_csv(output_file, index=False)"
   ]
  },
  {
   "cell_type": "markdown",
   "metadata": {},
   "source": [
    "# 패턴/정규 표현식을 활용한 필터링"
   ]
  },
  {
   "cell_type": "code",
   "execution_count": 42,
   "metadata": {},
   "outputs": [
    {
     "name": "stdout",
     "output_type": "stream",
     "text": [
      "001-1001\n",
      "001-1001\n",
      "001-1001\n",
      "001-1001\n",
      "50-9501\n",
      "50-9501\n",
      "50-9505\n",
      "50-9505\n",
      "920-4803\n",
      "920-4804\n",
      "920-4805\n",
      "920-4806\n"
     ]
    }
   ],
   "source": [
    "import csv\n",
    "import re\n",
    "\n",
    "input_file = './csv/supplier_data.csv'\n",
    "output_file = './output/5output.csv'\n",
    "\n",
    "pattern = re.compile(r'(?P<my_pattern_group>^001-.*)', re.I)\n",
    "\n",
    "with open(input_file, 'r', newline='') as csv_in_file:\n",
    "  with open(output_file, 'w', newline='') as csv_out_file:\n",
    "    filereader = csv.reader(csv_in_file)\n",
    "    filewriter = csv.writer(csv_out_file)\n",
    "    header = next(filereader)\n",
    "    filewriter.writerow(header)\n",
    "    for row_list in filereader:\n",
    "        invoice_number = row_list[1]\n",
    "        print(invoice_number)\n",
    "        if pattern.search(invoice_number):\n",
    "            filewriter.writerow(row_list)"
   ]
  },
  {
   "cell_type": "code",
   "execution_count": 25,
   "metadata": {},
   "outputs": [],
   "source": [
    "import pandas as pd\n",
    "\n",
    "input_file = './csv/supplier_data.csv'\n",
    "output_file = './output/5output.csv'\n",
    "\n",
    "data_frame = pd.read_csv(input_file)\n",
    "data_frame_value_matches_pattern = data_frame.loc[data_frame['Invoice Number'].str.startswith(\"001-\"), :]\n",
    "# .ix is deprecated. Please use\n",
    "# .loc for label based indexing or\n",
    "# .iloc for positional indexing\n",
    "\n",
    "data_frame_value_matches_pattern.to_csv(output_file, index=False)"
   ]
  },
  {
   "cell_type": "markdown",
   "metadata": {},
   "source": [
    "# 특정 열(col) 선택하기"
   ]
  },
  {
   "cell_type": "code",
   "execution_count": 29,
   "metadata": {},
   "outputs": [],
   "source": [
    "import csv\n",
    "\n",
    "input_file = './csv/supplier_data.csv'\n",
    "output_file = './output/6output.csv'\n",
    "\n",
    "my_columns = [0, 3]\n",
    "\n",
    "with open(input_file, 'r', newline='') as csv_in_file:\n",
    "  with open(output_file, 'w', newline='') as csv_out_file:\n",
    "    filereader = csv.reader(csv_in_file)\n",
    "    filewriter = csv.writer(csv_out_file)\n",
    "    for row_list in filereader:\n",
    "      row_list_output = []\n",
    "      for index_value in my_columns:\n",
    "        row_list_output.append(row_list[index_value])\n",
    "      filewriter.writerow(row_list_output)"
   ]
  },
  {
   "cell_type": "code",
   "execution_count": 30,
   "metadata": {},
   "outputs": [],
   "source": [
    "import pandas as pd\n",
    "\n",
    "input_file = './csv/supplier_data.csv'\n",
    "output_file = './output/6output.csv'\n",
    "\n",
    "data_frame = pd.read_csv(input_file)\n",
    "data_frame_column_by_index = data_frame.iloc[:, [0, 3]]\n",
    "data_frame_column_by_index.to_csv(output_file, index=False)\n"
   ]
  },
  {
   "cell_type": "markdown",
   "metadata": {},
   "source": [
    "# 특정 열의 헤더를 사용하여 선택하기"
   ]
  },
  {
   "cell_type": "code",
   "execution_count": 44,
   "metadata": {},
   "outputs": [],
   "source": [
    "import csv\n",
    "\n",
    "input_file = './csv/supplier_data.csv'\n",
    "output_file = './output/7output.csv'\n",
    "\n",
    "my_columns = ['Invoice Number', 'Purchase Date']\n",
    "my_columns_index = []\n",
    "\n",
    "with open(input_file, 'r', newline='') as csv_in_file:\n",
    "  with open(output_file, 'w', newline='') as csv_out_file:\n",
    "    filereader = csv.reader(csv_in_file)\n",
    "    filewriter = csv.writer(csv_out_file)\n",
    "    header = next(filereader)\n",
    "    for index_value in range(len(header)):\n",
    "      if header[index_value] in my_columns:\n",
    "        my_columns_index.append(index_value)\n",
    "    filewriter.writerow(my_columns)\n",
    "    for row_list in filereader:\n",
    "      row_list_output = []\n",
    "      for index_value in my_columns_index:\n",
    "        row_list_output.append(row_list[index_value])\n",
    "      filewriter.writerow(row_list_output)"
   ]
  },
  {
   "cell_type": "code",
   "execution_count": 46,
   "metadata": {},
   "outputs": [],
   "source": [
    "import pandas as pd\n",
    "import sys\n",
    "\n",
    "input_file = './csv/supplier_data.csv'\n",
    "output_file = './output/7output.csv'\n",
    "\n",
    "data_frame = pd.read_csv(input_file)\n",
    "data_frame_column_by_name = data_frame.loc[:, ['Invoice Number', 'Purchase Date']]\n",
    "\n",
    "data_frame_column_by_name.to_csv(output_file, index=False)"
   ]
  },
  {
   "cell_type": "markdown",
   "metadata": {},
   "source": [
    "# 연속된 행 선택하기"
   ]
  },
  {
   "cell_type": "code",
   "execution_count": 50,
   "metadata": {},
   "outputs": [],
   "source": [
    "import csv\n",
    "\n",
    "input_file = './csv/supplier_data_unnecessary_header_footer.csv'\n",
    "output_file = './output/11output.csv'\n",
    "\n",
    "row_counter = 0\n",
    "with open(input_file, 'r', newline='') as csv_in_file:\n",
    "  with open(output_file, 'w', newline='') as csv_out_file:\n",
    "    filereader = csv.reader(csv_in_file)\n",
    "    filewriter = csv.writer(csv_out_file)\n",
    "    for row in filereader:\n",
    "      if row_counter >= 3 and row_counter <= 15:\n",
    "        filewriter.writerow([value.strip() for value in row])\n",
    "      row_counter += 1"
   ]
  },
  {
   "cell_type": "code",
   "execution_count": 51,
   "metadata": {},
   "outputs": [],
   "source": [
    "import pandas as pd\n",
    "\n",
    "input_file = './csv/supplier_data_unnecessary_header_footer.csv'\n",
    "output_file = './output/11output.csv'\n",
    "\n",
    "data_frame = pd.read_csv(input_file, header=None)\n",
    "\n",
    "data_frame = data_frame.drop([0,1,2,16,17,18])\n",
    "data_frame.columns = data_frame.iloc[0]\n",
    "data_frame = data_frame.reindex(data_frame.index.drop(3))\n",
    "\n",
    "data_frame.to_csv(output_file, index=False)\n"
   ]
  },
  {
   "cell_type": "markdown",
   "metadata": {},
   "source": [
    "# 열 헤더 추가"
   ]
  },
  {
   "cell_type": "code",
   "execution_count": 52,
   "metadata": {},
   "outputs": [],
   "source": [
    "import csv\n",
    "\n",
    "input_file = './csv/supplier_data_no_header_row.csv'\n",
    "output_file = './output/12output.csv'\n",
    "\n",
    "with open(input_file, 'r', newline='') as csv_in_file:\n",
    "  with open(output_file, 'w', newline='') as csv_out_file:\n",
    "    filereader = csv.reader(csv_in_file)\n",
    "    filewriter = csv.writer(csv_out_file)\n",
    "    header_list = ['Supplier Name', 'Invoice Number', \\\n",
    "             'Part Number', 'Cost', 'Purchase Date']\n",
    "    filewriter.writerow(header_list)\n",
    "    for row in filereader:\n",
    "      filewriter.writerow (row)"
   ]
  },
  {
   "cell_type": "code",
   "execution_count": 53,
   "metadata": {},
   "outputs": [],
   "source": [
    "import pandas as pd\n",
    "\n",
    "input_file = './csv/supplier_data_no_header_row.csv'\n",
    "output_file = './output/12output.csv'\n",
    "\n",
    "header_list = ['Supplier Name', 'Invoice Number', 'Part Number', 'Cost', 'Purchase Date']\n",
    "data_frame = pd.read_csv(input_file, header=None, names=header_list)\n",
    "\n",
    "data_frame.to_csv(output_file, index=False)"
   ]
  },
  {
   "cell_type": "markdown",
   "metadata": {},
   "source": [
    "# 여러 파일 읽어오기"
   ]
  },
  {
   "cell_type": "code",
   "execution_count": 55,
   "metadata": {},
   "outputs": [
    {
     "name": "stdout",
     "output_type": "stream",
     "text": [
      "sales_january_2014.csv: \t7 rows \t5 columns\n",
      "sales_march_2014.csv: \t7 rows \t5 columns\n",
      "sales_february_2014.csv: \t7 rows \t5 columns\n",
      "Number of files: 3\n"
     ]
    }
   ],
   "source": [
    "import csv\n",
    "import glob\n",
    "import os\n",
    "\n",
    "input_path = './csv/'\n",
    "\n",
    "file_counter = 0\n",
    "for input_file in glob.glob(os.path.join(input_path,'sales_*')):\n",
    "  row_counter = 1\n",
    "  with open(input_file, 'r', newline='') as csv_in_file:\n",
    "    filereader = csv.reader(csv_in_file)\n",
    "    header = next(filereader)\n",
    "    for row in filereader:\n",
    "      row_counter += 1\n",
    "  print('{0!s}: \\t{1:d} rows \\t{2:d} columns'.format(\\\n",
    "  os.path.basename(input_file), row_counter, len(header)))\n",
    "  file_counter += 1\n",
    "print('Number of files: {0:d}'.format(file_counter))"
   ]
  },
  {
   "cell_type": "markdown",
   "metadata": {},
   "source": [
    "# 여러 파일 합치기"
   ]
  },
  {
   "cell_type": "code",
   "execution_count": 57,
   "metadata": {},
   "outputs": [
    {
     "name": "stdout",
     "output_type": "stream",
     "text": [
      "sales_january_2014.csv\n",
      "sales_march_2014.csv\n",
      "sales_february_2014.csv\n"
     ]
    }
   ],
   "source": [
    "#!/usr/bin/env python3\n",
    "import csv\n",
    "import glob\n",
    "import os\n",
    "import sys\n",
    "\n",
    "input_path = './csv/'\n",
    "output_file = './output/9output.csv'\n",
    " \n",
    "first_file = True\n",
    "for input_file in glob.glob(os.path.join(input_path,'sales_*')):\n",
    "  print(os.path.basename(input_file))\n",
    "  with open(input_file, 'r', newline='') as csv_in_file:\n",
    "    with open(output_file, 'a', newline='') as csv_out_file:\n",
    "      filereader = csv.reader(csv_in_file)\n",
    "      filewriter = csv.writer(csv_out_file)\n",
    "      if first_file:\n",
    "        for row in filereader:\n",
    "          filewriter.writerow(row)\n",
    "        first_file = False\n",
    "      else:\n",
    "        header = next(filereader)\n",
    "        for row in filereader:\n",
    "          filewriter.writerow(row)"
   ]
  },
  {
   "cell_type": "code",
   "execution_count": 58,
   "metadata": {},
   "outputs": [],
   "source": [
    "import pandas as pd\n",
    "import glob\n",
    "import os\n",
    "\n",
    "input_path = './csv/'\n",
    "output_file = './output/9output.csv'\n",
    "\n",
    "all_files = glob.glob(os.path.join(input_path,'sales_*'))\n",
    "\n",
    "all_data_frames = []\n",
    "for file in all_files:\n",
    "    data_frame = pd.read_csv(file, index_col=None)\n",
    "    all_data_frames.append(data_frame)\n",
    "data_frame_concat = pd.concat(all_data_frames, axis=0, ignore_index=True)\n",
    "\n",
    "data_frame_concat.to_csv(output_file, index = False)"
   ]
  },
  {
   "cell_type": "markdown",
   "metadata": {},
   "source": [
    "# 합계 및 평균 계산하기"
   ]
  },
  {
   "cell_type": "code",
   "execution_count": 59,
   "metadata": {},
   "outputs": [],
   "source": [
    "import csv\n",
    "import glob\n",
    "import os\n",
    "import string\n",
    "\n",
    "input_path = './csv/'\n",
    "output_file = './output/10output.csv'\n",
    "\n",
    "output_header_list = ['file_name', 'total_sales', 'average_sales']\n",
    "\n",
    "csv_out_file = open(output_file, 'a', newline='')\n",
    "filewriter = csv.writer(csv_out_file)\n",
    "filewriter.writerow(output_header_list)\n",
    "\n",
    "for input_file in glob.glob(os.path.join(input_path,'sales_*')):\n",
    "  with open(input_file, 'r', newline='') as csv_in_file:\n",
    "    filereader = csv.reader(csv_in_file)\n",
    "    output_list = [ ]\n",
    "    output_list.append(os.path.basename(input_file))\n",
    "    header = next(filereader)\n",
    "    total_sales = 0.0\n",
    "    number_of_sales = 0.0\n",
    "    for row in filereader:\n",
    "      sale_amount = row[3]\n",
    "      total_sales += float(str(sale_amount).strip('$').replace(',',''))\n",
    "      number_of_sales += 1.0\n",
    "    average_sales = '{0:.2f}'.format(total_sales / number_of_sales)\n",
    "    output_list.append(total_sales)\n",
    "    output_list.append(average_sales)\n",
    "    filewriter.writerow(output_list)\n",
    "csv_out_file.close()"
   ]
  },
  {
   "cell_type": "code",
   "execution_count": 61,
   "metadata": {},
   "outputs": [],
   "source": [
    "import pandas as pd\n",
    "import glob\n",
    "import os\n",
    "\n",
    "input_path = './csv/'\n",
    "output_file = './output/10output.csv'\n",
    "\n",
    "all_files = glob.glob(os.path.join(input_path,'sales_*'))\n",
    "all_data_frames = []\n",
    "for input_file in all_files:\n",
    "  data_frame = pd.read_csv(input_file, index_col=None)\n",
    "  total_sales = pd.DataFrame([float(str(value).strip('$').replace(',','')) for value in data_frame.loc[:, 'Sale Amount']]).sum()\n",
    "  average_sales = pd.DataFrame([float(str(value).strip('$').replace(',','')) for value in data_frame.loc[:, 'Sale Amount']]).mean()\n",
    "  data = {'file_name': os.path.basename(input_file),\n",
    "          'total_sales': total_sales,\n",
    "          'average_sales': average_sales}\n",
    "  all_data_frames.append(pd.DataFrame(data, columns=['file_name', 'total_sales', 'average_sales']))\n",
    "\n",
    "data_frames_concat = pd.concat(all_data_frames, axis=0, ignore_index=True)\n",
    "\n",
    "data_frames_concat.to_csv(output_file, index = False)"
   ]
  }
 ],
 "metadata": {
  "kernelspec": {
   "display_name": "Python 3",
   "language": "python",
   "name": "python3"
  },
  "language_info": {
   "codemirror_mode": {
    "name": "ipython",
    "version": 3
   },
   "file_extension": ".py",
   "mimetype": "text/x-python",
   "name": "python",
   "nbconvert_exporter": "python",
   "pygments_lexer": "ipython3",
   "version": "3.6.4"
  }
 },
 "nbformat": 4,
 "nbformat_minor": 2
}
